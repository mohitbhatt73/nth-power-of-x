{
 "cells": [
  {
   "cell_type": "code",
   "execution_count": 1,
   "id": "31691e50",
   "metadata": {},
   "outputs": [
    {
     "name": "stdout",
     "output_type": "stream",
     "text": [
      "8\n"
     ]
    }
   ],
   "source": [
    "def power(x, y):\n",
    "    \n",
    "    # If x^0 return 1\n",
    "    if (y == 0):\n",
    "        return 1\n",
    "    \n",
    "    # If we need to find of 0^y\n",
    "    if (x == 0):\n",
    "        return 0\n",
    "    \n",
    "    # For all other cases\n",
    "    return x * power(x, y - 1)\n",
    " \n",
    "# Driver Code\n",
    "x = 2\n",
    "y = 3\n",
    "\n",
    "print(power(x, y))"
   ]
  },
  {
   "cell_type": "code",
   "execution_count": null,
   "id": "904b3021",
   "metadata": {},
   "outputs": [],
   "source": []
  }
 ],
 "metadata": {
  "kernelspec": {
   "display_name": "Python 3 (ipykernel)",
   "language": "python",
   "name": "python3"
  },
  "language_info": {
   "codemirror_mode": {
    "name": "ipython",
    "version": 3
   },
   "file_extension": ".py",
   "mimetype": "text/x-python",
   "name": "python",
   "nbconvert_exporter": "python",
   "pygments_lexer": "ipython3",
   "version": "3.10.1"
  }
 },
 "nbformat": 4,
 "nbformat_minor": 5
}
